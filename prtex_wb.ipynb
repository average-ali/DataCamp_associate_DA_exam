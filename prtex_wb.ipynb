{
 "cells": [
  {
   "cell_type": "markdown",
   "id": "94b5be63",
   "metadata": {},
   "source": [
    "# Practical Exam Notebook\n",
    "In this notebook I have cleaned and preprocessed 'claims_prtexam.csv', the dataset provided by DataCamp as part of the Associate Data Analyst Exam case study. The visuals are created using the processed data."
   ]
  },
  {
   "cell_type": "code",
   "execution_count": 1,
   "id": "bdb919bb",
   "metadata": {},
   "outputs": [],
   "source": [
    "import numpy as np\n",
    "import pandas as pd\n",
    "import matplotlib.pyplot as plt\n",
    "import seaborn as sns\n",
    "#import re"
   ]
  },
  {
   "cell_type": "markdown",
   "id": "5d93a3be",
   "metadata": {},
   "source": [
    "## Data Validation\n",
    "### Overview: \n",
    "The original dataset had 98 rows and 8 columns. Data types of columns: 4 String (object), 2 int64, 1 float64, 1 bool.\n",
    "Each row had a unique identifier and none of the rows were dropped. "
   ]
  },
  {
   "cell_type": "code",
   "execution_count": 2,
   "id": "6bb18c9f",
   "metadata": {},
   "outputs": [
    {
     "name": "stdout",
     "output_type": "stream",
     "text": [
      "Unique values in the column \"Cause\" [nan 'vegetables' 'meat']\n"
     ]
    },
    {
     "data": {
      "text/plain": [
       "Linked Cases\n",
       "False    89\n",
       "True      9\n",
       "Name: Claim ID, dtype: int64"
      ]
     },
     "execution_count": 2,
     "metadata": {},
     "output_type": "execute_result"
    }
   ],
   "source": [
    "df_claims = pd.read_csv('claims_prtexam.csv')\n",
    "print(f'Unique values in the column \"Cause\" {df_claims[\"Cause\"].unique()}')\n",
    "\n",
    "# Find the frequency of different types of cases.\n",
    "df_claims.groupby('Linked Cases')['Claim ID'].count()"
   ]
  },
  {
   "cell_type": "markdown",
   "id": "04acc4a5",
   "metadata": {},
   "source": [
    "#### Claim ID: \n",
    "column has no missing values and all values are unique, as specified. I have modified the column values to make them shorter and improve readability during analysis. All the zeros were removed."
   ]
  },
  {
   "cell_type": "code",
   "execution_count": 3,
   "id": "26345cdc",
   "metadata": {},
   "outputs": [
    {
     "name": "stdout",
     "output_type": "stream",
     "text": [
      "Orginal Claim ID value: 0000000-00.2010.0.00.0094\n",
      "-------------------------------------------------- \n",
      "Processed Claim ID values\n"
     ]
    },
    {
     "data": {
      "text/plain": [
       "0    2010.94\n",
       "1    2011.86\n",
       "2    2012.92\n",
       "3    2013.96\n",
       "4    2014.97\n",
       "5    2014.77\n",
       "Name: Claim ID, dtype: object"
      ]
     },
     "execution_count": 3,
     "metadata": {},
     "output_type": "execute_result"
    }
   ],
   "source": [
    "print(f'Orginal Claim ID value: {df_claims[\"Claim ID\"].values[0]}')\n",
    "def cleaner(id):\n",
    "    return (id.str[11:15] + '.' + id.str[23:25])\n",
    "df_claims['Claim ID'] = cleaner(df_claims['Claim ID'])\n",
    "print(\"-\"*50,'\\nProcessed Claim ID values')\n",
    "df_claims.loc[0:5,'Claim ID']"
   ]
  },
  {
   "cell_type": "markdown",
   "id": "8263d975",
   "metadata": {},
   "source": [
    "#### Time to Close\n",
    "Has negative value(s). I thought the most probable reason for this error would be a typing mistake, so I decided to remove the negative sign.\n",
    "#### Individuals on Claim\n",
    "int64 to int32. Save space, faster processing"
   ]
  },
  {
   "cell_type": "code",
   "execution_count": 4,
   "id": "7bafb883",
   "metadata": {},
   "outputs": [],
   "source": [
    "df_claims['Time to Close'] = df_claims['Time to Close'].astype('int32')\n",
    "df_claims['Time to Close'] = df_claims['Time to Close'].apply(lambda x : x*-1 if (x < 0) else x)\n",
    "df_claims['Individuals on Claim'] = df_claims['Individuals on Claim'].astype('int32')"
   ]
  },
  {
   "cell_type": "markdown",
   "id": "006a3637",
   "metadata": {},
   "source": [
    "#### Location\n",
    "No missing values. Changed dtype to category for efficient storage and processing."
   ]
  },
  {
   "cell_type": "code",
   "execution_count": 5,
   "id": "3d6c6fff",
   "metadata": {},
   "outputs": [],
   "source": [
    "df_claims['Location'].unique()\n",
    "df_claims['Location'] = df_claims['Location'].astype('category')"
   ]
  },
  {
   "cell_type": "markdown",
   "id": "22736728",
   "metadata": {},
   "source": [
    "#### Linked Cases\n",
    "Has binary values only and none of the values in the column are missing.\n",
    "#### Cause\n",
    "Should have 3 values only- 'vegetable','meat','unknown'. As instructed in the data dictionary, missing values have been replaced with 'unknown'. dtype changed to category."
   ]
  },
  {
   "cell_type": "code",
   "execution_count": 6,
   "id": "092b596c",
   "metadata": {},
   "outputs": [
    {
     "data": {
      "text/plain": [
       "0"
      ]
     },
     "execution_count": 6,
     "metadata": {},
     "output_type": "execute_result"
    }
   ],
   "source": [
    "df_claims.fillna({'Cause':'unknown'}, inplace=True)\n",
    "df_claims['Cause'] = df_claims['Cause'].astype('category')\n",
    "df_claims['Cause'].isnull().sum()\n"
   ]
  },
  {
   "cell_type": "markdown",
   "id": "35d0d576",
   "metadata": {},
   "source": [
    "#### Claim Amount\n",
    "Extracted only the numeric part of the value as specified. Converted dtype to int32 as it is a numeric column. Column had no missing values."
   ]
  },
  {
   "cell_type": "code",
   "execution_count": 7,
   "id": "4af9ab5f",
   "metadata": {},
   "outputs": [
    {
     "name": "stdout",
     "output_type": "stream",
     "text": [
      "sample original Claim_Amount values\n",
      "0     R$50,000.00\n",
      "1    R$180,000.00\n",
      "2     R$70,000.00\n",
      "3     R$95,104.00\n",
      "Name: Claim Amount, dtype: object\n",
      "----------------------------------- \n",
      "Processed Claim_Amount values\n"
     ]
    },
    {
     "data": {
      "text/plain": [
       "0     50000\n",
       "1    180000\n",
       "2     70000\n",
       "3     95104\n",
       "Name: Claim Amount, dtype: int32"
      ]
     },
     "execution_count": 7,
     "metadata": {},
     "output_type": "execute_result"
    }
   ],
   "source": [
    "print('sample original Claim_Amount values')\n",
    "print(df_claims.loc[0:3, \"Claim Amount\"])\n",
    "def transform_amount(amt):\n",
    "    amt[\"Claim Amount\"] = amt[\"Claim Amount\"].str.extract('(\\d.+)\\.')\n",
    "    amt[\"Claim Amount\"] = amt[\"Claim Amount\"].str.replace(',','')\n",
    "    amt[\"Claim Amount\"] = amt[\"Claim Amount\"].astype('int32')\n",
    "    return amt[\"Claim Amount\"]\n",
    "df_claims[\"Claim Amount\"] = transform_amount(df_claims)\n",
    "\n",
    "print('-'*35,'\\nProcessed Claim_Amount values')\n",
    "df_claims.loc[0:3, \"Claim Amount\"]\n"
   ]
  },
  {
   "cell_type": "markdown",
   "id": "e4790665",
   "metadata": {},
   "source": [
    "#### Individuals on Claim\n",
    "No missing values. Surprisingly, there are 7 rows in which the number of individuals on the claim is equal to 0. \n",
    "Either these rows are invalid or incorrect values have been entered for this specific column; or there is some other way a claim can be registered. Nevertheless, I decided not to remove these rows; the dataset is already relatively small."
   ]
  },
  {
   "cell_type": "code",
   "execution_count": 8,
   "id": "6ade6f02",
   "metadata": {},
   "outputs": [
    {
     "data": {
      "text/html": [
       "<div>\n",
       "<style scoped>\n",
       "    .dataframe tbody tr th:only-of-type {\n",
       "        vertical-align: middle;\n",
       "    }\n",
       "\n",
       "    .dataframe tbody tr th {\n",
       "        vertical-align: top;\n",
       "    }\n",
       "\n",
       "    .dataframe thead th {\n",
       "        text-align: right;\n",
       "    }\n",
       "</style>\n",
       "<table border=\"1\" class=\"dataframe\">\n",
       "  <thead>\n",
       "    <tr style=\"text-align: right;\">\n",
       "      <th></th>\n",
       "      <th>Time to Close</th>\n",
       "      <th>Claim Amount</th>\n",
       "      <th>Amount Paid</th>\n",
       "      <th>Individuals on Claim</th>\n",
       "    </tr>\n",
       "  </thead>\n",
       "  <tbody>\n",
       "    <tr>\n",
       "      <th>count</th>\n",
       "      <td>98.000000</td>\n",
       "      <td>98.000000</td>\n",
       "      <td>98.000000</td>\n",
       "      <td>98.000000</td>\n",
       "    </tr>\n",
       "    <tr>\n",
       "      <th>mean</th>\n",
       "      <td>833.510204</td>\n",
       "      <td>122952.030612</td>\n",
       "      <td>58448.238571</td>\n",
       "      <td>4.908163</td>\n",
       "    </tr>\n",
       "    <tr>\n",
       "      <th>std</th>\n",
       "      <td>685.424441</td>\n",
       "      <td>166433.389040</td>\n",
       "      <td>87525.873849</td>\n",
       "      <td>7.292259</td>\n",
       "    </tr>\n",
       "    <tr>\n",
       "      <th>min</th>\n",
       "      <td>29.000000</td>\n",
       "      <td>3555.000000</td>\n",
       "      <td>999.680000</td>\n",
       "      <td>0.000000</td>\n",
       "    </tr>\n",
       "    <tr>\n",
       "      <th>25%</th>\n",
       "      <td>340.750000</td>\n",
       "      <td>40000.000000</td>\n",
       "      <td>15965.642500</td>\n",
       "      <td>1.000000</td>\n",
       "    </tr>\n",
       "    <tr>\n",
       "      <th>50%</th>\n",
       "      <td>638.500000</td>\n",
       "      <td>58454.500000</td>\n",
       "      <td>29451.040000</td>\n",
       "      <td>2.000000</td>\n",
       "    </tr>\n",
       "    <tr>\n",
       "      <th>75%</th>\n",
       "      <td>1138.750000</td>\n",
       "      <td>136573.250000</td>\n",
       "      <td>52114.760000</td>\n",
       "      <td>5.750000</td>\n",
       "    </tr>\n",
       "    <tr>\n",
       "      <th>max</th>\n",
       "      <td>3591.000000</td>\n",
       "      <td>936540.000000</td>\n",
       "      <td>558725.770000</td>\n",
       "      <td>41.000000</td>\n",
       "    </tr>\n",
       "  </tbody>\n",
       "</table>\n",
       "</div>"
      ],
      "text/plain": [
       "       Time to Close   Claim Amount    Amount Paid  Individuals on Claim\n",
       "count      98.000000      98.000000      98.000000             98.000000\n",
       "mean      833.510204  122952.030612   58448.238571              4.908163\n",
       "std       685.424441  166433.389040   87525.873849              7.292259\n",
       "min        29.000000    3555.000000     999.680000              0.000000\n",
       "25%       340.750000   40000.000000   15965.642500              1.000000\n",
       "50%       638.500000   58454.500000   29451.040000              2.000000\n",
       "75%      1138.750000  136573.250000   52114.760000              5.750000\n",
       "max      3591.000000  936540.000000  558725.770000             41.000000"
      ]
     },
     "execution_count": 8,
     "metadata": {},
     "output_type": "execute_result"
    }
   ],
   "source": [
    "df_claims[['Time to Close','Claim Amount','Amount Paid','Individuals on Claim']].describe()"
   ]
  },
  {
   "cell_type": "code",
   "execution_count": 9,
   "id": "d51e4644",
   "metadata": {},
   "outputs": [
    {
     "name": "stdout",
     "output_type": "stream",
     "text": [
      "<class 'pandas.core.frame.DataFrame'>\n",
      "RangeIndex: 98 entries, 0 to 97\n",
      "Data columns (total 8 columns):\n",
      " #   Column                Non-Null Count  Dtype   \n",
      "---  ------                --------------  -----   \n",
      " 0   Claim ID              98 non-null     object  \n",
      " 1   Time to Close         98 non-null     int64   \n",
      " 2   Claim Amount          98 non-null     int32   \n",
      " 3   Amount Paid           98 non-null     float64 \n",
      " 4   Location              98 non-null     category\n",
      " 5   Individuals on Claim  98 non-null     int32   \n",
      " 6   Linked Cases          98 non-null     bool    \n",
      " 7   Cause                 98 non-null     category\n",
      "dtypes: bool(1), category(2), float64(1), int32(2), int64(1), object(1)\n",
      "memory usage: 3.8+ KB\n"
     ]
    }
   ],
   "source": [
    "df_claims.info()"
   ]
  },
  {
   "cell_type": "code",
   "execution_count": 10,
   "id": "d0f64615",
   "metadata": {},
   "outputs": [
    {
     "data": {
      "text/html": [
       "<div>\n",
       "<style scoped>\n",
       "    .dataframe tbody tr th:only-of-type {\n",
       "        vertical-align: middle;\n",
       "    }\n",
       "\n",
       "    .dataframe tbody tr th {\n",
       "        vertical-align: top;\n",
       "    }\n",
       "\n",
       "    .dataframe thead th {\n",
       "        text-align: right;\n",
       "    }\n",
       "</style>\n",
       "<table border=\"1\" class=\"dataframe\">\n",
       "  <thead>\n",
       "    <tr style=\"text-align: right;\">\n",
       "      <th></th>\n",
       "      <th>Claim ID</th>\n",
       "      <th>Time to Close</th>\n",
       "      <th>Claim Amount</th>\n",
       "      <th>Amount Paid</th>\n",
       "      <th>Location</th>\n",
       "      <th>Individuals on Claim</th>\n",
       "      <th>Linked Cases</th>\n",
       "      <th>Cause</th>\n",
       "    </tr>\n",
       "  </thead>\n",
       "  <tbody>\n",
       "    <tr>\n",
       "      <th>0</th>\n",
       "      <td>2010.94</td>\n",
       "      <td>2082</td>\n",
       "      <td>50000</td>\n",
       "      <td>34297.47</td>\n",
       "      <td>RECIFE</td>\n",
       "      <td>2</td>\n",
       "      <td>False</td>\n",
       "      <td>unknown</td>\n",
       "    </tr>\n",
       "    <tr>\n",
       "      <th>1</th>\n",
       "      <td>2011.86</td>\n",
       "      <td>3591</td>\n",
       "      <td>180000</td>\n",
       "      <td>56383.54</td>\n",
       "      <td>SAO LUIS</td>\n",
       "      <td>7</td>\n",
       "      <td>False</td>\n",
       "      <td>unknown</td>\n",
       "    </tr>\n",
       "    <tr>\n",
       "      <th>2</th>\n",
       "      <td>2012.92</td>\n",
       "      <td>2997</td>\n",
       "      <td>70000</td>\n",
       "      <td>12366.76</td>\n",
       "      <td>SAO LUIS</td>\n",
       "      <td>3</td>\n",
       "      <td>False</td>\n",
       "      <td>vegetables</td>\n",
       "    </tr>\n",
       "    <tr>\n",
       "      <th>3</th>\n",
       "      <td>2013.96</td>\n",
       "      <td>1143</td>\n",
       "      <td>95104</td>\n",
       "      <td>29217.16</td>\n",
       "      <td>FORTALEZA</td>\n",
       "      <td>4</td>\n",
       "      <td>False</td>\n",
       "      <td>unknown</td>\n",
       "    </tr>\n",
       "    <tr>\n",
       "      <th>4</th>\n",
       "      <td>2014.97</td>\n",
       "      <td>117</td>\n",
       "      <td>29000</td>\n",
       "      <td>12610.50</td>\n",
       "      <td>FORTALEZA</td>\n",
       "      <td>1</td>\n",
       "      <td>False</td>\n",
       "      <td>meat</td>\n",
       "    </tr>\n",
       "  </tbody>\n",
       "</table>\n",
       "</div>"
      ],
      "text/plain": [
       "  Claim ID  Time to Close  Claim Amount  Amount Paid   Location  \\\n",
       "0  2010.94           2082         50000     34297.47     RECIFE   \n",
       "1  2011.86           3591        180000     56383.54   SAO LUIS   \n",
       "2  2012.92           2997         70000     12366.76   SAO LUIS   \n",
       "3  2013.96           1143         95104     29217.16  FORTALEZA   \n",
       "4  2014.97            117         29000     12610.50  FORTALEZA   \n",
       "\n",
       "   Individuals on Claim  Linked Cases       Cause  \n",
       "0                     2         False     unknown  \n",
       "1                     7         False     unknown  \n",
       "2                     3         False  vegetables  \n",
       "3                     4         False     unknown  \n",
       "4                     1         False        meat  "
      ]
     },
     "execution_count": 10,
     "metadata": {},
     "output_type": "execute_result"
    }
   ],
   "source": [
    "#Write processed data to a CSV.\n",
    "df_claims.to_csv('proc_claims.csv')\n",
    "#Print first rows of this dataset.\n",
    "df_claims.head()"
   ]
  },
  {
   "cell_type": "markdown",
   "id": "233a69dd",
   "metadata": {},
   "source": [
    "## Data Visualization\n",
    "Using different visuals to answer the business questions\n",
    "### How does the number of claims differ across locations?\n",
    "Most claims were registered in SAO LUIS(30), followed by RECIFE(25). In all locations, more than 20 claims were made, so in terms of total number of claims, the difference between Locations is not extraordinary. Nevertheless, the legal department should take a loot at outlets in SAO LUIS first."
   ]
  },
  {
   "cell_type": "code",
   "execution_count": 11,
   "id": "a3fbed6c",
   "metadata": {},
   "outputs": [
    {
     "data": {
      "image/png": "[encoded data removed]",
      "text/plain": [
       "<Figure size 792x432 with 1 Axes>"
      ]
     },
     "metadata": {
      "needs_background": "light"
     },
     "output_type": "display_data"
    }
   ],
   "source": [
    "df_q1 = df_claims.groupby('Location').agg({'Claim ID' : 'count', 'Time to Close' : 'mean'})\n",
    "df_q1.rename(columns={'Claim ID':'number_of_claims', 'Time to Close':'avg_ctime_per_claim(Days)'}, inplace=True)\n",
    "df_q1.reset_index(inplace=True)\n",
    "plt.figure(figsize=(11,6))\n",
    "plt.style.use('ggplot')\n",
    "plt.title('Total Number of Claims by Location')\n",
    "sns.barplot(x='Location', y='number_of_claims', data=df_q1)\n",
    "plt.show()"
   ]
  },
  {
   "cell_type": "markdown",
   "id": "bef5fdbd",
   "metadata": {},
   "source": [
    "### What is the distribution of time to close claims?\n",
    "Most of the claims are generally closed withn 1200 days, while a few of the claims took more than 1500 days. There are some outliers in the data as well. The legal team should focus on claims that took more than 1000 days first."
   ]
  },
  {
   "cell_type": "code",
   "execution_count": 12,
   "id": "14ee8996",
   "metadata": {},
   "outputs": [
    {
     "name": "stderr",
     "output_type": "stream",
     "text": [
      "C:\\Users\\hp\\AppData\\Local\\Programs\\Python\\Python38\\lib\\site-packages\\seaborn\\_decorators.py:36: FutureWarning: Pass the following variable as a keyword arg: x. From version 0.12, the only valid positional argument will be `data`, and passing other arguments without an explicit keyword will result in an error or misinterpretation.\n",
      "  warnings.warn(\n"
     ]
    },
    {
     "data": {
      "image/png": "[encoded data removed]",
      "text/plain": [
       "<Figure size 864x864 with 2 Axes>"
      ]
     },
     "metadata": {},
     "output_type": "display_data"
    }
   ],
   "source": [
    "plt.figure(figsize=(12,12))\n",
    "plt.subplot(2,1,1)\n",
    "plt.title('Histogram for Time to close Claims(in days)')\n",
    "sns.histplot(x='Time to Close', data=df_claims, bins=25)\n",
    "plt.subplot(2,1,2)\n",
    "plt.title('Boxplot for Time to close Claims(in days)')\n",
    "sns.boxplot('Time to Close', data=df_claims)\n",
    "plt.show()\n"
   ]
  },
  {
   "cell_type": "markdown",
   "id": "b21f21f4",
   "metadata": {},
   "source": [
    "### How does the average closing time for claims differ across locations?\n",
    "To answer this question we need to find the average 'Time to Close' for each 'Location'.\n",
    "Claims in SAO LUIS take the most time to close on average- more than 1000 days, around double the average time to close claims in NATAL. RECIFE comes second on the list, followed by FORTALEZA. As shown by the boxplot below , the data spread for 'Time to Close' is also largest for SAO LUIS, with a fair number of the claims taking more than 1500 days to close. In other locations, few cases/ claims cross this number."
   ]
  },
  {
   "cell_type": "code",
   "execution_count": 13,
   "id": "bbf72d24",
   "metadata": {},
   "outputs": [
    {
     "data": {
      "image/png": "[encoded data removed]",
      "text/plain": [
       "<Figure size 1152x432 with 2 Axes>"
      ]
     },
     "metadata": {},
     "output_type": "display_data"
    }
   ],
   "source": [
    "plt.figure(figsize=(16,6))\n",
    "plt.style.use('ggplot')\n",
    "plt.subplot(1,2,1)\n",
    "plt.title(\"Average time to close claims(in days) for different locations\")\n",
    "sns.barplot(x='Location', y='avg_ctime_per_claim(Days)', data=df_q1)\n",
    "df_claims = df_claims.sort_values('Location')\n",
    "plt.subplot(1,2,2)\n",
    "sns.boxplot(x='Location', y='Time to Close', data=df_claims)\n",
    "plt.title(\"Distribution for time to close claims(in days) for different locations\")\n",
    "plt.show()"
   ]
  },
  {
   "cell_type": "markdown",
   "id": "ebe018d9",
   "metadata": {},
   "source": [
    "The legal team has been informed about the differences in the time it takes to close claims across locations. Our findings indicate that the situation is much worse in SAO LUIS, than in any other location. Whereas in NATAL, least number of claims were made and the average time to close down claims was the lowest."
   ]
  },
  {
   "cell_type": "code",
   "execution_count": 14,
   "id": "52a732eb",
   "metadata": {},
   "outputs": [
    {
     "name": "stdout",
     "output_type": "stream",
     "text": [
      "    Location  Amount Paid\n",
      "0  FORTALEZA    871041.62\n",
      "1      NATAL   1858284.22\n",
      "2     RECIFE   1159152.70\n",
      "3   SAO LUIS   1839448.84\n"
     ]
    },
    {
     "data": {
      "image/png": "[encoded data removed]",
      "text/plain": [
       "<Figure size 648x360 with 1 Axes>"
      ]
     },
     "metadata": {},
     "output_type": "display_data"
    }
   ],
   "source": [
    "df_q2 = df_claims.groupby('Location').agg({'Amount Paid' : 'sum'})\n",
    "df_q2.reset_index(inplace=True)\n",
    "print(df_q2.head())\n",
    "plt.figure(figsize=(9,5))\n",
    "sns.barplot(x='Location', y='Amount Paid', data=df_q2)\n",
    "plt.title('        Sum of Amount Paid for claims across different locations')\n",
    "plt.show()\n"
   ]
  },
  {
   "cell_type": "code",
   "execution_count": null,
   "id": "8d2d5cee",
   "metadata": {},
   "outputs": [],
   "source": []
  }
 ],
 "metadata": {
  "kernelspec": {
   "display_name": "fut-venv",
   "language": "python",
   "name": "fut-venv"
  },
  "language_info": {
   "codemirror_mode": {
    "name": "ipython",
    "version": 3
   },
   "file_extension": ".py",
   "mimetype": "text/x-python",
   "name": "python",
   "nbconvert_exporter": "python",
   "pygments_lexer": "ipython3",
   "version": "3.8.3"
  }
 },
 "nbformat": 4,
 "nbformat_minor": 5
}
